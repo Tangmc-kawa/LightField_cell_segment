{
 "cells": [
  {
   "cell_type": "code",
   "execution_count": 4,
   "metadata": {},
   "outputs": [
    {
     "data": {
      "text/plain": [
       "True"
      ]
     },
     "execution_count": 4,
     "metadata": {},
     "output_type": "execute_result"
    }
   ],
   "source": [
    "import cv2\n",
    "import numpy as np\n",
    "import os \n",
    "\n",
    "os.chdir('C:/Users/Akikawa/HuangLab/data_analysis/Archive-copy/')\n",
    "\n",
    "# Load the 16-bit grayscale TIFF images\n",
    "image1 = cv2.imread(\"./{}h/{}.TIF\".format(4, 5), cv2.IMREAD_UNCHANGED)\n",
    "image2 = cv2.imread('image2.tif', cv2.IMREAD_UNCHANGED)\n",
    "\n",
    "# Convert the 16-bit grayscale images to 8-bit\n",
    "image1_8bit = cv2.normalize(image1, None, 0, 255, cv2.NORM_MINMAX, dtype=cv2.CV_8U)\n",
    "image2_8bit = cv2.normalize(image2, None, 0, 255, cv2.NORM_MINMAX, dtype=cv2.CV_8U)\n",
    "\n",
    "# Convert the 8-bit grayscale images to BGRA images\n",
    "image1_bgra = cv2.cvtColor(image1_8bit, cv2.COLOR_GRAY2BGRA)\n",
    "image2_bgra = cv2.cvtColor(image2_8bit, cv2.COLOR_GRAY2BGRA)\n",
    "\n",
    "# Create a mask from the second grayscale image\n",
    "mask = cv2.normalize(image2_8bit, None, alpha=0, beta=255, norm_type=cv2.NORM_MINMAX, dtype=cv2.CV_8U)\n",
    "mask_bgra = cv2.cvtColor(mask, cv2.COLOR_GRAY2BGRA)\n",
    "\n",
    "# Set the transparency value (0 to 1)\n",
    "transparency = 0.5\n",
    "\n",
    "# Modify the mask's alpha channel\n",
    "mask_bgra[:, :, 3] = (mask_bgra[:, :, 3] * transparency).astype(np.uint8)\n",
    "\n",
    "# Apply the mask to the first image\n",
    "result = cv2.addWeighted(image1_bgra, 1, mask_bgra, transparency, 0)\n",
    "\n",
    "# Save the resulting image as an 8-bit TIFF image\n",
    "cv2.imwrite('result.tif', result)\n",
    "\n",
    "# Display the resulting image\n",
    "cv2.imshow('Result', result)\n",
    "cv2.waitKey(0)\n",
    "cv2.destroyAllWindows()\n"
   ]
  }
 ],
 "metadata": {
  "kernelspec": {
   "display_name": "base",
   "language": "python",
   "name": "python3"
  },
  "language_info": {
   "codemirror_mode": {
    "name": "ipython",
    "version": 3
   },
   "file_extension": ".py",
   "mimetype": "text/x-python",
   "name": "python",
   "nbconvert_exporter": "python",
   "pygments_lexer": "ipython3",
   "version": "3.10.9"
  },
  "orig_nbformat": 4
 },
 "nbformat": 4,
 "nbformat_minor": 2
}
